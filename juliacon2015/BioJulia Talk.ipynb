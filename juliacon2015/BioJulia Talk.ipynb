{
 "cells": [
  {
   "cell_type": "markdown",
   "metadata": {
    "collapsed": true,
    "slideshow": {
     "slide_type": "slide"
    }
   },
   "source": [
    "# BioJulia"
   ]
  },
  {
   "cell_type": "markdown",
   "metadata": {
    "slideshow": {
     "slide_type": "slide"
    }
   },
   "source": [
    "# Why Julia?\n",
    "\n",
    "Sequencing is getting faster faster than computers are getting faster.\n",
    "\n",
    "<img src=\"falling-fast-nature.png\" width=\"70%\">\n",
    "\n",
    "<small>Source: Hayden, Erica Check. \"The $1,000 genome.\" Nature 507.7492 (2014): 294-295.</small>\n"
   ]
  },
  {
   "cell_type": "markdown",
   "metadata": {
    "slideshow": {
     "slide_type": "slide"
    }
   },
   "source": [
    "## BioJulia/Bio.jl\n",
    "\n",
    "This talk: a preview of functionality in our core library [Bio.jl](https://github.com/BioJulia/Bio.jl)"
   ]
  },
  {
   "cell_type": "markdown",
   "metadata": {
    "collapsed": true,
    "slideshow": {
     "slide_type": "slide"
    }
   },
   "source": [
    "# Parsing\n",
    "\n",
    "Formats in Bioinformatics are notoriusly poorly designed and/or under-defined.\n",
    "\n",
    "There's siginficant disagreement between implementations.\n",
    "\n"
   ]
  },
  {
   "cell_type": "markdown",
   "metadata": {
    "slideshow": {
     "slide_type": "slide"
    }
   },
   "source": [
    "## Case study: FASTA\n",
    "\n",
    "A simple, ubiquitous format for sequences.\n",
    "\n",
    "```\n",
    ">gi|3176602|gb|U78617.1|LOU78617 Lathyrus odoratus phytochrome A (PHYA) gene, partial cds\n",
    "CAGGCTGCGCGGTTTCTATTTATGAAGAACAAGGTCCGTATGATAGTTGATTGTCATGCAAAACATGTGA\n",
    "AGGTTCTTCAAGACGAAAAACTCCCATTTGATTTGACTCTGTGCGGTTCGACCTTAAGAGCTCCACATAG\n",
    "TTGCCATTTGCAGTACATGGCTAACATGGATTCAATTGCTTCATTGGTTATGGCAGTGGTCGTCAATGAC\n",
    "AGCGATGAAGATGGAGATAGCCGTGACGCAGTTCTACCACAAAAGAAAAAGAGACTTTGGGGTTTGGTAG\n",
    "TTTGTCATAACACTACTCCGAGGTTTGTT\n",
    "```\n"
   ]
  },
  {
   "cell_type": "markdown",
   "metadata": {
    "slideshow": {
     "slide_type": "slide"
    }
   },
   "source": [
    "## Case study: FASTA\n",
    "\n",
    "Many tools exist to manipulate FASTA files.\n",
    "\n",
    "```shell\n",
    "» seqtk seq -r sweetpea.fasta\n",
    "\n",
    ">gi|3176602|gb|U78617.1|LOU78617 Lathyrus odoratus phytochrome A (PHYA) gene, partial cds\n",
    "AACAAACCTCGGAGTAGTGTTATGACAAACTACCAAACCCCAAAGTCTCTTTTTCTTTTGTGGTAGAACTGCGTCACGGCTATCTCCATCTTCATCGCTGTCATTGACGACCACTGCCATAACCAATGAAGCAATTGAATCCATGTTAGCCATGTACTGCAAATGGCAACTATGTGGAGCTCTTAAGGTCGAACCGCACAGAGTCAAATCAAATGGGAGTTTTTCGTCTTGAAGAACCTTCACATGTTTTGCATGACAATCAACTATCATACGGACCTTGTTCTTCATAAATAGAAACCGCGCAGCCTG\n",
    "```"
   ]
  },
  {
   "cell_type": "markdown",
   "metadata": {
    "slideshow": {
     "slide_type": "slide"
    }
   },
   "source": [
    "## ASCII Art Pizza (Not FASTA!)\n",
    "\n",
    "```\n",
    "                                    __..---'\"\"\"\"\"\"\"`---..__\n",
    "                               _.-''    ____......____     ``-._\n",
    "                           _.-'   _.--'\"     _        `\"\"-.._   `-._\n",
    "                        _,'   _.-'    *  _.-\"_`   ~  .-.  ,  `-._   `._\n",
    "                      ,'    .'      ~    `.-'    \"  :   :   ~    `-.   `.\n",
    "                    ,'    .'   \"      \"     ____     ._.      /. '  `.   `.\n",
    "                  ,'   .- .--.  *  ||  ,  .\"    `.        \"  //   \"   `.   `.\n",
    "                ,'   .'  :   .'    ||     \"\"\"| |\"'  ~   _   // ,    *   `.   `.\n",
    "               /   .' ~  : ,'`,  ~ |'   \"    '-'  *    (C)      .\"\".    \" `.   \\\n",
    "              /   '       ` `'         *   ~     .   \"     *   :   .  ~     .   \\\n",
    "             /   '   // *   ,  ,-.  ~   _   ,  .','     '    \"  `.'      (0) .   \\\n",
    "            /   .   //   (c)  :   :    (o)   .'.'   ,  ~  \\\\         *       *.   \\\n",
    "           /   . , //  ,      `.__,   \"       '      .--.  \\\\  ~   =====   \"   .   \\\n",
    "          /   '           \"        ____  ,  \"   *   `.   `  })  _  \"   ~  .     .   \\\n",
    "         .   '   \"  ,  ~    _ *    ----'  ~       , .'`, ;     (O)    .   ,-. \"  .\n",
    "         '  '  _      .    (o)  ~       *   \" (D)    `\" `    \"     *   ___| |___  .  .\n",
    "        j  .  (c) *  `.`.            \"    .-     .  ~    , *   .       '._    .'  |  |\n",
    "        >  | \"         `.'  \"   //      .'  :  \"      '         ~  //     `\"\"\"   *|  |\n",
    "        |  |       \"  .        //   ~  '    ,    ~ , ====\"  (c)   //  ~    .    \" |  |\n",
    "        |  |  ~ ,'    .-. ~      ,  _  `...' (@)        ~  `           *     (C)  |  |\n",
    "        |  |*   ||  __| |___  \"    (0) \"     __   ,\"\"-.      .--.  \"  _   '       |  |\n",
    "        |  | ,  ||  '.    ,'    ~    __..--\"' ,  '   .'   \" '    .   ())    \\\\  ~ |  |\n",
    "        |  |      ~   `\"\"\" __,..--'\"'        ,   '_,'`. *    `--\"        . \" \\\\   |  |\n",
    "        '  `  \"   __...--''          __        *    `.'    ~     \"   .--.   , \\\\  '  |\n",
    "         `..`--'''          __..---'' .'    /___..      \"   .  *    `.   `    .  .   '\n",
    "                  __,..--'''    _  \" ,     / ---\"\"  ~    . `.`.  ~  .'`, ;  \"   .   .\n",
    "         __..---''     ,   \"   (O)  ,     /   .       (Q)    `.`.    `\" `    * .   ,\n",
    ",,..--'''    .   *  ~   ||   *    ~      / \"     *        , ~  `    ~  , (O)  '   .\n",
    "|  | ,   (@)   \"      \" ||   .-.   '    /   _  ~   \" || .    *    \"          '   .\n",
    "'  '   \"    ~ .   .--.  |j  :   : /    /~  (O)       ||   \"   .  _  *  /. \" '   ,\n",
    " .  `    _____   `.   `      .__,/    /         .-.  ||   ,--.  (@)   //  .    /\n",
    "  `  `.  ----- * .'`, ;   \"     /    /   \"     :   :     '   .'      //  .   ,'\n",
    "   `.  .  ~       `\" `  *   ~  /    /,      ~   .__,  ,  : ,'`  \"      .'   /\n",
    "     .  `  , (c)     '  .     /    /    *              ~  ' `'    * _.'   ,'\n",
    "      `.  .        *  .  (C) /    /  \"  (o)  \\\\ ,  *          ~ _.-\"    ,'\n",
    "        .  `.   \"    // .   /    ,._    ,     \\\\      (O) * _.-\"     _.'\n",
    "         `.  `.   , //     /    ,   ``-.._  *  `  \"   __.-\"'     _.-'\n",
    "           `._  `.    . \" /     `._       \"`--....--\"\"      _,.-'\n",
    "              `.  `-._   /         `--..___         ___..--'\n",
    "                `-._  ` ,                  `'\"\"\"\"\"''\n",
    "                    `-.'\n",
    "\n",
    "```\n",
    "\n",
    "```\n",
    "» seqtk seq -r pizza.txt\n",
    "\n",
    "\n",
    ">  | \"         `.'  \"   //      .'  :  \"      '         ~  //     `\"\"\"   *|  |\n",
    ",   . *    @ \"@    .@.@    )Q(       .   /     ,  )O(   \"   ,     ''---..__         .   .   \"  ; ,@'.  ~  .@.@ .    ~  \"\"--- /     , \"  _    '''--..,__                  '   .  .    @   .@    *  .   \"      ..___/    '. ''---..__          '''--@..@         |  '  \\\\ ,   .--.   \"     ~    '.@    *        __          ''--...__   \"  @  '        |  |   \\\\ \" .        \"--@    * .@',_'   ,        '\"'--..,__ \"\"\"@   ~      |  |        |  | ~  \\\\    ))(   .    ' \"   '.   '  , '\"--..__    ~    ',    .'  ||  , |  |        |  |       '   _  \"  .--.      .-\"\",   __     \" )0(    \"  ___| |__  ||   *|  |        |  |  )G(     *           @  ~        )@( '...@  _  ,      ~ .-.    ', ~  |  |        |  | \"    .    ~  //   )g(  \"==== , ~    ,    '  ~   //        .  \"       |  |\n",
    "\n",
    ">,..--'''    .   *  ~   ||   *    ~      / \"     *        , ~  `    ~  , (O)  '   .\n",
    "'.-@                    ''\"\"\"\"\"'@                  , @  _.-@                '--..___         ___..--@         /   _.-@  .@              '-.,_      \"\"--....--@\"       _.@     / \" .    .@  _.@           '-._     '\"-.__   \"  @  *  _..-@@   ,    /     // ,   .@  .@         '._     \"-._ * )O(      \\\\     ,    _.,    /   . //    \"   .@  .        ',    \"-._ ~          *  , \\\\  )o(  \"  /    / )G(  .  *        .  .@      ',   '._ *    '@ '  ~              *    /    /     .  '     )g( ,  @  .     /   '.      \"  @', :  ,  ,__.   ~      ,/    /  ~   *  @ \"@       ~  .  .@   ',   .  //      '.   '     :   :     \"   /    /     \"   ; ,@'. * -----  .@  @  /    .  //   )@(  .--,   ||  .-.         /    /,__.      @   .@   _____    @  . ,   ' \" ./  *  _  .   \"   ||       )O(  ~/    / :   :  j|  .--.   . ~    \"   '  '.   '          \"    *    . || \"   ~  _   /    '   .-.   || \"      \"   )@(   , |  |\n",
    "```\n",
    "\n",
    "Istead of printing an error, half of the pizza is dissapeared and the other half is split into two sequences and mangled.\n",
    "\n",
    "This particular parser is used 1615 times on GitHub.\n",
    "\n",
    "Because formats are not standardized, parsers are often \"non-validating\" or vaguely defined.\n"
   ]
  },
  {
   "cell_type": "markdown",
   "metadata": {
    "slideshow": {
     "slide_type": "slide"
    }
   },
   "source": [
    "# Precise Parsers for Imprecise Formats\n",
    "\n",
    "Lack of standardization should not prevent us from using a precise definition.\n",
    "\n",
    "Biojulia has adopted the strategy of generating parsers from specifications."
   ]
  },
  {
   "cell_type": "markdown",
   "metadata": {
    "slideshow": {
     "slide_type": "slide"
    }
   },
   "source": [
    "# Generating Parsers from Regular Expressions\n",
    "\n",
    "Most formats of interest can be parsed with regular expressions.\n",
    "\n",
    "PCRE is fast but has limitations:\n",
    "\n",
    "  * Complex PCRE regexes are hard to read and write.\n",
    "  * Allocates on match.\n",
    "  * Assumes the the match is in memory.\n",
    "  \n",
    "We use a tool called **Ragel**."
   ]
  },
  {
   "cell_type": "markdown",
   "metadata": {
    "slideshow": {
     "slide_type": "slide"
    }
   },
   "source": [
    "## FASTA\n",
    "\n",
    "With Ragel we can define a FASTA parser in 9 lines that's faster and more accurate that most hand-written C/C++ parsers.\n",
    "\n",
    "```julia\n",
    "newline     = '\\r'? '\\n';\n",
    "hspace      = [ \\t\\v];\n",
    "whitespace  = space | newline;\n",
    "\n",
    "identifier  = (any - space)+;\n",
    "description = ((any - hspace) [^\\r\\n]*);\n",
    "letters     = (any - space - '>')+;\n",
    "sequence    = whitespace* letters? (whitespace+ letters)*;\n",
    "fasta_entry = '>' identifier (hspace+ description)? newline sequence whitespace*;\n",
    "\n",
    "main := whitespace* (fasta_entry)*;\n",
    "```\n",
    "\n",
    "The same specification can be used to generate equivalent parsers C, D, Go, Java, Ruby, C#, OCaml."
   ]
  },
  {
   "cell_type": "markdown",
   "metadata": {
    "slideshow": {
     "slide_type": "slide"
    }
   },
   "source": [
    "## Executing Arbitrary Code in the State Machine\n",
    "\n",
    "Ragel let's us execute arbitrary code on state machine transitions.\n",
    "\n",
    "```julia\n",
    "action count_line  { input.state.linenum += 1 }\n",
    "\n",
    "newline = '\\r'? '\\n'  >count_line;\n",
    "```"
   ]
  },
  {
   "cell_type": "markdown",
   "metadata": {
    "slideshow": {
     "slide_type": "slide"
    }
   },
   "source": [
    "## Extracting portions of the match\n",
    "\n",
    "Mark the current position in the buffer. If the buffer is refilled, the position is updated.\n",
    "```julia\n",
    "action mark { Ragel.@mark! }\n",
    "```\n",
    "\n",
    "Extract a string from the mark to the current position.\n",
    "```julia\n",
    "action identifier { input.namebuf = Ragel.@asciistring_from_mark! }\n",
    "```\n",
    "\n",
    "```julia\n",
    "identifier  = (any - space)+  >mark  %identifier;\n",
    "```\n",
    "\n",
    "All uneccessary copying is avoided.\n"
   ]
  },
  {
   "cell_type": "markdown",
   "metadata": {
    "slideshow": {
     "slide_type": "slide"
    }
   },
   "source": [
    "## Parsing something slightly more than regular\n",
    "\n",
    "```\n",
    "@SRR359032.1 DBRHHJN1_0173:6:1:1478:1049\n",
    "CGCATGATGTCCGCCAAAAGAGCCTGCCCGTGTCGCCTGAAATCGGCCTCCTGCCCGGTGGACCCGTCCGTAGGGAT\n",
    "+\n",
    "HHHGHHHHHHHHHHHGHHHHFHHHHHHFHHHHEHEDFHHEHDECHH?HFHDFE=EEFEB@FB=DFEEBBHB@DCFDE\n",
    "```\n",
    "\n",
    "FASTQ is no ta regular language. We can still parse it.\n",
    "\n",
    "```julia    \n",
    "qletters = ([!-~] when qlen_lt $inc_qual_count)+   >mark %qletters;\n",
    "\n",
    "action qlen_lt {\n",
    "    length(input.qualbuf) + input.qualcount < length(input.seqbuf)\n",
    "}\n",
    "```\n"
   ]
  },
  {
   "cell_type": "markdown",
   "metadata": {
    "slideshow": {
     "slide_type": "slide"
    }
   },
   "source": [
    "## Debugging/Optimizing State Machines\n",
    "\n",
    "Code generated by Ragel is very efficient but largely unreadable:\n",
    "\n",
    "```julia\n",
    "...\n",
    "elseif ( ( data[1 + p ]) >= 14  )\n",
    "\t@goto st2\n",
    "\n",
    "end\n",
    "@goto st2\n",
    "@label ctr3\n",
    "\tinput.namebuf = Ragel.@asciistring_from_mark! \n",
    "@goto st3\n",
    "@label st3\n",
    "p+= 1;\n",
    "\tif p == pe \n",
    "\t@goto _test_eof3\n",
    "\n",
    "end\n",
    "@label st_case_3\n",
    "@switch ( data[1 + p ])  begin\n",
    "    @case 9\n",
    "@goto st3\n",
    "@case 10\n",
    "@goto ctr6\n",
    "@case 11\n",
    "@goto st3\n",
    "@case 32\n",
    "@goto st3\n",
    "\n",
    "end\n",
    "if ( data[1 + p ]) > 31 \n",
    "\tif 33 <= ( data[1 + p ]) \n",
    "\t@goto ctr6\n",
    "\n",
    "end\n",
    "\n",
    "elseif ( ( data[1 + p ]) >= 12  )\n",
    "\t@goto ctr6\n",
    "\n",
    "end\n",
    "@goto ctr6\n",
    "...\n",
    "```\n"
   ]
  },
  {
   "cell_type": "markdown",
   "metadata": {
    "slideshow": {
     "slide_type": "slide"
    }
   },
   "source": [
    "## Debugging/Optimizing State Machines\n",
    "\n",
    "Fortunately, we don't have to read it. We can debug state machines visually.\n",
    "\n",
    "<img src=\"fasta.svg\" width=800>"
   ]
  },
  {
   "cell_type": "markdown",
   "metadata": {
    "slideshow": {
     "slide_type": "slide"
    }
   },
   "source": [
    "## Ragel parser are fast!"
   ]
  },
  {
   "cell_type": "code",
   "execution_count": 15,
   "metadata": {
    "collapsed": false
   },
   "outputs": [
    {
     "name": "stdout",
     "output_type": "stream",
     "text": [
      "  26.561 seconds      (8951 allocations: 1423 MB, 4.74% gc time)\n"
     ]
    }
   ],
   "source": [
    "using Bio.Seq\n",
    "\n",
    "@time collect(read(\"/Users/dcjones/Homo_sapiens.GRCh38.dna.primary_assembly.fa\", FASTA));"
   ]
  },
  {
   "cell_type": "markdown",
   "metadata": {},
   "source": [
    "**30.8 seconds** in Biostrings (R), **39.7 seconds** in SeqAn (C++)"
   ]
  },
  {
   "cell_type": "markdown",
   "metadata": {
    "slideshow": {
     "slide_type": "slide"
    }
   },
   "source": [
    "## Parsers in Bio.jl are versatile"
   ]
  },
  {
   "cell_type": "code",
   "execution_count": 35,
   "metadata": {
    "collapsed": false
   },
   "outputs": [
    {
     "name": "stdout",
     "output_type": "stream",
     "text": [
      "@SRR094166.10001 HWI-E4:2:1:233:1015 length=125\n",
      "GAGTCCATCGCCCTGTTGAGCGACGAGGACGAGAACAACGCCGAGGAGGGTGCCGATCGCGTCAGNCTTATGACCATCCACTCCGCCACGGGCCTGCAGGTCGACTATGGTTTCATCACAGGTTG\n",
      "▇▇▇▇▇▇▇▇▇▇▇▇▇▇▇▇▇▇▇▇▇▇▇▇▇▇▇▇▇▇▄▇▇▇▇▇▇▇▇▇▇▇▇▇▇▇▇▇▇▇▇▇▇▇▇▇▆▇▇▇▇▆▇▇▄▁▆▇▇▆▇▇▇▇▇▇▄▇▆▇▇▇▇▇▄▇▇▆▄▇▄▇▇▇▄▇▄▇▇▆▇▇▆▄▄▄▇▇▄▆▇▆▇▇▇▆▄▆▄▄▄▇▂▂▂\n",
      "\n",
      "@SRR094166.10002 HWI-E4:2:1:233:1487 length=125\n",
      "CTTCGGCAAGATGCGTCCGATCGTCTACGACAGCACCCGCCGCATCTACCGCGTCGCAGGCGAGGAGGTCGGCGGCGCCTGGGATGCGGGCACGGCGTCGGTTGAGGTGTGTGCAGCGAGGTGTG\n",
      "▇▇▇▇▇▇▇▇▇▇▇▇▇▇▇▇▇▇▇▇▇▇▇▇▇▇▇▇▇▇▇▇▇▇▇▇▇▇▇▇▇▇▇▇▄▇▇▄▇▇▇▆▇▇▇▆▄▇▇▇▇▇▇▇▄▆▇▄▇▄▆▄▆▄▇▆▆▆▄▆▇▇▇▄▆▄▄▆▇▇▆▄▄▇▆▆▄▆▄▆▄▆▄▆▆▆▄▄▄▄▄▆▄▄▄▄▄▆▆▆▄▆▆▄▄\n",
      "\n",
      "@SRR094166.10003 HWI-E4:2:1:233:1621 length=125\n",
      "ATTTTCACGGTCACGATAATGAATCTCCTGACCGTTTTTCGTCACCACATGCGCCTTTTTGTTGTTGTTCAAAATCCACAGTGTCACGCTAATGTCGGTGGAATAGAACAAGTTACGGGGTAGAA\n",
      "▇▇████████▇███████████████████████▇████▇▇▇▇▇▇▇▇███████████████▇▆▇▇▇▇▇▇▇▇▇▆▇▇▆▇▇▇▆▅▆▇▆▄▆▇▆▆▇▆▇▇▆▇▇▇▆▇▇▇▆▆▆▆▆▆▆▆▄▃▃▅▆▆▃▄▆▆▂▂▂▂▂\n",
      "\n"
     ]
    }
   ],
   "source": [
    "using Bio.Seq\n",
    "\n",
    "# Memory mapping\n",
    "read(\"/Users/dcjones/Homo_sapiens.GRCh38.dna.primary_assembly.fa\", FASTA, memory_map=true)\n",
    "\n",
    "# Reading from commands\n",
    "for seqrec in take(drop(read(`quip -cd /Users/dcjones/SRR094166.fastq.qp`, FASTQ), 10000), 3)\n",
    "    println(seqrec)\n",
    "end"
   ]
  },
  {
   "cell_type": "markdown",
   "metadata": {
    "slideshow": {
     "slide_type": "slide"
    }
   },
   "source": [
    "## Testing Parsers\n",
    "\n",
    "Every projects has a disjoint set of test cases. We've begun ransacking and indexing other project's test cases.\n",
    "\n",
    "These are collected in **BioFmtSpecimens**. Our parser tests are a proper superset of BioPython, BioRuby, BioPerl."
   ]
  },
  {
   "cell_type": "markdown",
   "metadata": {
    "slideshow": {
     "slide_type": "slide"
    }
   },
   "source": [
    "# Representing Nucleotide Sequences\n",
    "\n",
    "The most common representation of sequences is essentially `Tuple{String, Alphabet}`.\n"
   ]
  },
  {
   "cell_type": "markdown",
   "metadata": {
    "slideshow": {
     "slide_type": "slide"
    }
   },
   "source": [
    "## Nucleotide sequences in Bio.jl are 2-bit encoded\n",
    "\n",
    "```julia\n",
    "  A => 0b00\n",
    "  C => 0b01\n",
    "  T => 0b10\n",
    "  G => 0b11\n",
    "```\n",
    "\n",
    "And additional bitmask is used to represent `N`, as in \"NA\". (Effectively 3-bit encoding.)\n",
    "\n",
    "Low level 2-bit sequences is more complex, but certain operations can be made extremely efficient.\n"
   ]
  },
  {
   "cell_type": "markdown",
   "metadata": {
    "slideshow": {
     "slide_type": "slide"
    }
   },
   "source": [
    "### Computing Reverse Complement"
   ]
  },
  {
   "cell_type": "code",
   "execution_count": null,
   "metadata": {
    "collapsed": true
   },
   "outputs": [],
   "source": [
    "using Bio.Seq\n",
    "const chr1 = first(read(\"/Users/dcjones/Homo_sapiens.GRCh38.dna.primary_assembly.fa\", FASTA)).seq"
   ]
  },
  {
   "cell_type": "code",
   "execution_count": 29,
   "metadata": {
    "collapsed": false
   },
   "outputs": [
    {
     "name": "stdout",
     "output_type": "stream",
     "text": [
      " 151.301 milliseconds (11 allocations: 91171 KB)\n"
     ]
    }
   ],
   "source": [
    "@time reverse_complement(chr1);"
   ]
  },
  {
   "cell_type": "markdown",
   "metadata": {},
   "source": [
    "Versus **956 milliseconds** in Biostrings (R) and **445 milliseconds** in SeqAn (C++)"
   ]
  },
  {
   "cell_type": "markdown",
   "metadata": {
    "slideshow": {
     "slide_type": "slide"
    }
   },
   "source": [
    "### Counting Oligonucleotides (K-mers)"
   ]
  },
  {
   "cell_type": "code",
   "execution_count": 31,
   "metadata": {
    "collapsed": false
   },
   "outputs": [
    {
     "name": "stdout",
     "output_type": "stream",
     "text": [
      "   1.901 seconds      (8 allocations: 4096 KB)\n"
     ]
    }
   ],
   "source": [
    "@time DNAKmerCounts{10}(chr1);"
   ]
  },
  {
   "cell_type": "markdown",
   "metadata": {},
   "source": [
    "Versus **2.724 seconds** in Biostrings (R) and **5.954 seconds** in SeqAn (C++)"
   ]
  },
  {
   "cell_type": "markdown",
   "metadata": {
    "slideshow": {
     "slide_type": "slide"
    }
   },
   "source": [
    "### Counting Nucleotides"
   ]
  },
  {
   "cell_type": "code",
   "execution_count": 33,
   "metadata": {
    "collapsed": false
   },
   "outputs": [
    {
     "name": "stdout",
     "output_type": "stream",
     "text": [
      "  "
     ]
    },
    {
     "data": {
      "text/plain": [
       "DNANucleotideCounts:\n",
       "  A => 66934129\n",
       "  C => 47963509\n",
       "  G => 48007795\n",
       "  T => 67099613\n",
       "  N => 18951376\n"
      ]
     },
     "execution_count": 33,
     "metadata": {},
     "output_type": "execute_result"
    },
    {
     "name": "stdout",
     "output_type": "stream",
     "text": [
      "67.946 milliseconds (196 k allocations: 3058 KB)\n"
     ]
    }
   ],
   "source": [
    "@time NucleotideCounts(chr1)"
   ]
  },
  {
   "cell_type": "markdown",
   "metadata": {},
   "source": [
    "Versus **1193 milliseconds** in Biostrings (R) **3165 milliseconds** in SeqAn (C++)"
   ]
  },
  {
   "cell_type": "markdown",
   "metadata": {
    "slideshow": {
     "slide_type": "slide"
    }
   },
   "source": [
    "## Counting Nucleotides"
   ]
  },
  {
   "cell_type": "markdown",
   "metadata": {},
   "source": [
    "```julia\n",
    "count_c(x::Uint64) = count_ones((((~x) >>> 1) & x) & 0x5555555555555555)\n",
    "```"
   ]
  },
  {
   "cell_type": "code",
   "execution_count": 7,
   "metadata": {
    "collapsed": false
   },
   "outputs": [
    {
     "name": "stdout",
     "output_type": "stream",
     "text": [
      "\t.section\t__TEXT,__text,regular,pure_instructions\n",
      "Filename: /Users/dcjones/.julia/v0.4/Bio/src/seq/nucleotide.jl\n",
      "Source line: 1363\n",
      "\tpushq\t%rbp\n",
      "\tmovq\t%rsp, %rbp\n",
      "Source line: 1363\n",
      "\tmovq\t%rdi, %rax\n",
      "\tshrq\t%rax\n",
      "\tnotq\t%rax\n",
      "\tandq\t%rdi, %rax\n",
      "\tmovabsq\t$6148914691236517205, %rcx ## imm = 0x5555555555555555\n",
      "\tandq\t%rax, %rcx\n",
      "\tpopcntq\t%rcx, %rax\n",
      "\tpopq\t%rbp\n",
      "\tret\n"
     ]
    }
   ],
   "source": [
    "code_native(Seq.count_c, (Uint64,))"
   ]
  },
  {
   "cell_type": "markdown",
   "metadata": {
    "slideshow": {
     "slide_type": "slide"
    }
   },
   "source": [
    "## Translation"
   ]
  },
  {
   "cell_type": "code",
   "execution_count": 34,
   "metadata": {
    "collapsed": false
   },
   "outputs": [
    {
     "name": "stdout",
     "output_type": "stream",
     "text": [
      " 467.524 milliseconds (765 k allocations: 65283 KB)\n"
     ]
    }
   ],
   "source": [
    "const seqs = collect(read(\"/Users/dcjones/human-coding-sequences.fa\", FASTA))\n",
    "@time for seq in seqs\n",
    "    translate(convert(RNASequence, seq.seq[1:end-3]), Seq.standard_genetic_code, true)\n",
    "end"
   ]
  },
  {
   "cell_type": "markdown",
   "metadata": {},
   "source": [
    "**632 milliseconds** in Biostrings (R) and **938 milliseconds** in SeqAn (C++)"
   ]
  },
  {
   "cell_type": "markdown",
   "metadata": {
    "slideshow": {
     "slide_type": "slide"
    }
   },
   "source": [
    "# Subsequences\n",
    "\n",
    "Subsequences are cheap"
   ]
  },
  {
   "cell_type": "code",
   "execution_count": 8,
   "metadata": {
    "collapsed": false
   },
   "outputs": [
    {
     "name": "stdout",
     "output_type": "stream",
     "text": [
      "  48.829 milliseconds (1000 k allocations: 54688 KB)\n"
     ]
    }
   ],
   "source": [
    "@time [chr1[i:end] for i in 1:1000000];"
   ]
  },
  {
   "cell_type": "markdown",
   "metadata": {},
   "source": [
    "Subsequences are *not* second-class citizens. Subsequences are sequences."
   ]
  },
  {
   "cell_type": "code",
   "execution_count": 37,
   "metadata": {
    "collapsed": false
   },
   "outputs": [
    {
     "ename": "LoadError",
     "evalue": "LoadError: UndefVarError: chr1 not defined\nwhile loading In[37], in expression starting on line 1",
     "output_type": "error",
     "traceback": [
      "LoadError: UndefVarError: chr1 not defined\nwhile loading In[37], in expression starting on line 1",
      ""
     ]
    }
   ],
   "source": [
    "typeof(chr1) == typeof(chr1[1000:10000])"
   ]
  },
  {
   "cell_type": "markdown",
   "metadata": {
    "collapsed": true,
    "slideshow": {
     "slide_type": "slide"
    }
   },
   "source": [
    "# A Toy Assembler\n",
    "\n",
    "Bio.jl already has most of what's needed to write an assembler."
   ]
  },
  {
   "cell_type": "markdown",
   "metadata": {
    "slideshow": {
     "slide_type": "slide"
    }
   },
   "source": [
    "## Shotgun Sequencing\n",
    "\n",
    "Current technology can only read short seqments accurately.\n",
    "\n",
    "![](shotgun.png)"
   ]
  },
  {
   "cell_type": "markdown",
   "metadata": {
    "slideshow": {
     "slide_type": "slide"
    }
   },
   "source": [
    "## De Bruijn Graph Assembly\n",
    "\n",
    "![](debruijn.svg)"
   ]
  },
  {
   "cell_type": "markdown",
   "metadata": {
    "slideshow": {
     "slide_type": "slide"
    }
   },
   "source": [
    "## Assembling Short Reads in < 40 lines"
   ]
  },
  {
   "cell_type": "code",
   "execution_count": 18,
   "metadata": {
    "collapsed": true
   },
   "outputs": [],
   "source": [
    "using DataStructures"
   ]
  },
  {
   "cell_type": "code",
   "execution_count": 19,
   "metadata": {
    "collapsed": false
   },
   "outputs": [
    {
     "data": {
      "text/plain": [
       "assemble_reads (generic function with 1 method)"
      ]
     },
     "execution_count": 19,
     "metadata": {},
     "output_type": "execute_result"
    }
   ],
   "source": [
    "function assemble_reads(filename, n)\n",
    "    K = 20 # K-mer size\n",
    "    threshold = 200 # stop when we manage to build a contig this big\n",
    "    \n",
    "    # Count k-mers\n",
    "    counts = DefaultDict(DNAKmer{K}, Uint32, () -> 0)\n",
    "    for seqrec in take(drop(read(`quip -cd $filename`, FASTQ), 10000), n)\n",
    "        for (i, kmer) in each(DNAKmer{K}, seqrec.seq)\n",
    "            counts[canonical(kmer)] += 1\n",
    "        end\n",
    "    end\n",
    "    \n",
    "    # Build a contig greedily from either end of a seed k-mer\n",
    "    function expand_seed(seed_kmer)\n",
    "        contig = [nt for nt in seed_kmer]\n",
    "        while true\n",
    "                maxcount, seed_kmer = maximum([(get(counts, canonical(kmer), 0), kmer)\n",
    "                                               for kmer in neighbors(seed_kmer)])\n",
    "            maxcount == 0 && break\n",
    "            counts[seed_kmer] = 0\n",
    "            push!(contig, seed_kmer[K])\n",
    "        end\n",
    "        return DNASequence(contig)\n",
    "    end\n",
    "    \n",
    "    # Assemble contigs until we find a long one\n",
    "    while true\n",
    "        # Find the most abundant k-mer as seed\n",
    "        maxcount = maximum(values(counts))\n",
    "        if maxcount == 0\n",
    "            return nothing\n",
    "        end\n",
    "        seed_kmer = first(filter((k,v) -> v == maxcount, counts))[1]\n",
    "        counts[seed_kmer] = 0\n",
    "\n",
    "        contig = DNASequence(reverse_complement(expand_seed(reverse_complement(seed_kmer))),\n",
    "                expand_seed(seed_kmer)[K+1:end])\n",
    "        if length(contig) >= threshold\n",
    "            return contig\n",
    "        end\n",
    "    end\n",
    "end"
   ]
  },
  {
   "cell_type": "code",
   "execution_count": 20,
   "metadata": {
    "collapsed": false,
    "slideshow": {
     "slide_type": "slide"
    }
   },
   "outputs": [
    {
     "data": {
      "text/plain": [
       "861nt DNA Sequence\n",
       " GTGGCCCACTACTTTTCCATATAGGGCTATAAACTGAT…CGGAGGATTCCGGAAGCTTGCCAGCCGCCCTGGCGGGGG"
      ]
     },
     "execution_count": 20,
     "metadata": {},
     "output_type": "execute_result"
    }
   ],
   "source": [
    "contig = assemble_reads(\"/Users/dcjones/SRR359032_1.fastq.qp\", 10000)"
   ]
  },
  {
   "cell_type": "markdown",
   "metadata": {},
   "source": [
    "# Intervals\n",
    "\n",
    "A great deal of genomic data can be represented as intervals annotated with some data.\n",
    "\n",
    "```julia\n",
    "immutable Interval{T}\n",
    "    seqname::ASCIIString\n",
    "    first::Int64\n",
    "    last::Int64\n",
    "    strand::Strand\n",
    "    metadata::T\n",
    "end\n",
    "```"
   ]
  },
  {
   "cell_type": "markdown",
   "metadata": {
    "slideshow": {
     "slide_type": "slide"
    }
   },
   "source": [
    "## Interval Intersection\n",
    "\n",
    "Intersection is a fundamental operation for sets of intervals.\n",
    "\n",
    "![](interval-intersection.svg)\n",
    "\n",
    "In general: find all pairs of intervals from `A` and `B` that intersect."
   ]
  },
  {
   "cell_type": "markdown",
   "metadata": {
    "slideshow": {
     "slide_type": "slide"
    }
   },
   "source": [
    "## There are multiple ways we can proceed\n",
    " \n",
    "* Index A and do |B| O(log |A|) queries.\n",
    "* index B and do |A| O(log |B|) queries.\n",
    "* Sort both and process them linearly: O(|A| + |B|)"
   ]
  },
  {
   "cell_type": "markdown",
   "metadata": {
    "slideshow": {
     "slide_type": "slide"
    }
   },
   "source": [
    "## B+-trees let us do all of these efficiently\n",
    "\n",
    "![](btree.svg)"
   ]
  },
  {
   "cell_type": "markdown",
   "metadata": {
    "slideshow": {
     "slide_type": "slide"
    }
   },
   "source": [
    "## Intersection"
   ]
  },
  {
   "cell_type": "code",
   "execution_count": 28,
   "metadata": {
    "collapsed": false
   },
   "outputs": [
    {
     "name": "stdout",
     "output_type": "stream",
     "text": [
      "   3.190 seconds      (17592 k allocations: 612 MB, 59.76% gc time)\n"
     ]
    }
   ],
   "source": [
    "genes = read(\"genes.bed\", BED)\n",
    "reads = IntervalCollection(read(\"reads.bed\", BED))\n",
    "@time for (a,b) in intersect(reads, genes)\n",
    "end\n",
    "\n"
   ]
  },
  {
   "cell_type": "markdown",
   "metadata": {},
   "source": [
    "**5.9 seconds** for `bedtools intersect -loj`."
   ]
  },
  {
   "cell_type": "markdown",
   "metadata": {
    "slideshow": {
     "slide_type": "slide"
    }
   },
   "source": [
    "## Interval Streams\n",
    "\n",
    "If intervals are *stored* in sorted order, we often don't need to bother reading and indexing everything."
   ]
  },
  {
   "cell_type": "code",
   "execution_count": 33,
   "metadata": {
    "collapsed": false
   },
   "outputs": [
    {
     "name": "stdout",
     "output_type": "stream",
     "text": [
      "  79.852 seconds      (664 M allocations: 22424 MB, 37.64% gc time)\n"
     ]
    }
   ],
   "source": [
    "@time for (a, b) in intersect(read(\"genes.sorted.bed\", BED), read(\"bodymap-heart-2-1.bed\", BED))\n",
    "end"
   ]
  },
  {
   "cell_type": "markdown",
   "metadata": {},
   "source": [
    "`bedtools intersect -loj -sorted` takes 147.29 seconds "
   ]
  },
  {
   "cell_type": "markdown",
   "metadata": {
    "slideshow": {
     "slide_type": "slide"
    }
   },
   "source": [
    "## Computing Coverage\n",
    "\n",
    "![](coverage.svg)"
   ]
  },
  {
   "cell_type": "code",
   "execution_count": 8,
   "metadata": {
    "collapsed": false,
    "slideshow": {
     "slide_type": "-"
    }
   },
   "outputs": [
    {
     "name": "stdout",
     "output_type": "stream",
     "text": [
      "  "
     ]
    },
    {
     "data": {
      "text/plain": [
       "IntervalCollection with 3208603 intervals:\n",
       "  chr1:10586-10633    .    1\n",
       "  chr1:11768-11817    .    2\n",
       "  chr1:11897-11946    .    2\n",
       "  chr1:13375-13424    .    1\n",
       "  chr1:13476-13525    .    1\n",
       "  chr1:13929-13978    .    1\n",
       "  chr1:14003-14049    .    1\n",
       "  chr1:14050-14052    .    2\n",
       "  ⋮"
      ]
     },
     "execution_count": 8,
     "metadata": {},
     "output_type": "execute_result"
    },
    {
     "name": "stdout",
     "output_type": "stream",
     "text": [
      "34.209 seconds      (419 M allocations: 16216 MB, 31.36% gc time)\n"
     ]
    }
   ],
   "source": [
    "@time coverage(read(\"bodymap-heart-2-chr1.bed\", BED))"
   ]
  },
  {
   "cell_type": "markdown",
   "metadata": {},
   "source": [
    "`bedtools genomecov` takes 54.4 seconds to do the same."
   ]
  },
  {
   "cell_type": "markdown",
   "metadata": {
    "slideshow": {
     "slide_type": "slide"
    }
   },
   "source": [
    "## Intersection is a regular iterator\n",
    "\n",
    "They can be composed like any other iterator.\n",
    "\n",
    "E.g. we don't have, nor neeed on option for strand-specific intersection. It's trivial to implement:"
   ]
  },
  {
   "cell_type": "code",
   "execution_count": null,
   "metadata": {
    "collapsed": false
   },
   "outputs": [],
   "source": [
    "intersections = intersect(read(\"genes.sorted.bed\", BED), read(\"bodymap-heart-2-1.bed\", BED))\n",
    "collect(filter(ab -> ab[1].strand == ab[2].strand, intersections))"
   ]
  },
  {
   "cell_type": "markdown",
   "metadata": {
    "slideshow": {
     "slide_type": "slide"
    }
   },
   "source": [
    "# Visualization\n",
    "\n",
    "Genomics involves visualizing large amounts of 1D data an varying scale.\n",
    "\n",
    "\"Genome browsers\" are the prevailing idiom."
   ]
  },
  {
   "cell_type": "markdown",
   "metadata": {
    "slideshow": {
     "slide_type": "slide"
    }
   },
   "source": [
    "## BigBed/BigWig\n",
    "\n",
    "Super-effecient binary formats for visualizing genomic data.\n",
    "\n",
    "Data is summarized at multiple scales and indexed with R-trees."
   ]
  },
  {
   "cell_type": "markdown",
   "metadata": {
    "slideshow": {
     "slide_type": "slide"
    }
   },
   "source": [
    "## Dalliance"
   ]
  },
  {
   "cell_type": "code",
   "execution_count": 31,
   "metadata": {
    "collapsed": false
   },
   "outputs": [
    {
     "name": "stdout",
     "output_type": "stream",
     "text": [
      "84.222 seconds      (664 M allocations: 22424 MB, 40.05% gc time)\n"
     ]
    }
   ],
   "source": [
    "using Dalliance, Bio.Intervals\n",
    "\n",
    "genes = read(\"genes.bed\", BED)\n",
    "read_coverage = coverage(read(\"bodymap-heart-2-chr1.bed\", BED));"
   ]
  },
  {
   "cell_type": "code",
   "execution_count": 38,
   "metadata": {
    "collapsed": false
   },
   "outputs": [
    {
     "name": "stderr",
     "output_type": "stream",
     "text": [
      "processing dataset\n"
     ]
    },
    {
     "ename": "LoadError",
     "evalue": "LoadError: InexactError()\nwhile loading In[38], in expression starting on line 2",
     "output_type": "error",
     "traceback": [
      "LoadError: InexactError()\nwhile loading In[38], in expression starting on line 2",
      "",
      " in trunc at ./float.jl:360",
      " in write_bigbed_bigwig at /Users/dcjones/.julia/v0.4/Bio/src/intervals/bigbed.jl:1717",
      " in prepare_dataset at /Users/dcjones/.julia/v0.4/Dalliance/src/Dalliance.jl:24",
      " in prepare_dataset at /Users/dcjones/.julia/v0.4/Dalliance/src/Dalliance.jl:35",
      " in genomebrowser at /Users/dcjones/.julia/v0.4/Dalliance/src/Dalliance.jl:63"
     ]
    },
    {
     "name": "stderr",
     "output_type": "stream",
     "text": [
      "writing BigBed\n"
     ]
    }
   ],
   "source": [
    "\n",
    "genomebrowser(\"GRCh38\", genes, read_coverage)"
   ]
  },
  {
   "cell_type": "markdown",
   "metadata": {
    "slideshow": {
     "slide_type": "slide"
    }
   },
   "source": [
    "# Much More in Progress!\n",
    "\n",
    "  * Phyolgenetics\n",
    "  * Manipulating sequence alignments\n",
    "  * Database accession numbers\n",
    "  * FM-index"
   ]
  },
  {
   "cell_type": "markdown",
   "metadata": {
    "slideshow": {
     "slide_type": "slide"
    }
   },
   "source": [
    "# Thanks\n",
    "\n",
    "  * Ben Ward\n",
    "  * Richard Smith-Unna\n",
    "  * Paulo Roberto de Oliveira Castro\n",
    "  * Kenta Sato\n",
    "  \n",
    "  And fixes and useful discussion from many others."
   ]
  },
  {
   "cell_type": "code",
   "execution_count": null,
   "metadata": {
    "collapsed": true
   },
   "outputs": [],
   "source": []
  }
 ],
 "metadata": {
  "celltoolbar": "Slideshow",
  "kernelspec": {
   "display_name": "Julia 0.4.0-dev",
   "language": "julia",
   "name": "julia-0.4"
  },
  "language_info": {
   "name": "julia",
   "version": "0.4.0"
  }
 },
 "nbformat": 4,
 "nbformat_minor": 0
}
